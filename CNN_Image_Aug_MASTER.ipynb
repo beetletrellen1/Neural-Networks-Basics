{
 "cells": [
  {
   "cell_type": "code",
   "execution_count": 1,
   "metadata": {},
   "outputs": [
    {
     "name": "stderr",
     "output_type": "stream",
     "text": [
      "Using TensorFlow backend.\n"
     ]
    }
   ],
   "source": [
    "import numpy as np\n",
    "import pandas as pd\n",
    "import matplotlib.pyplot as plt\n",
    "\n",
    "\n",
    "from keras.datasets import mnist\n",
    "from keras.utils import to_categorical\n",
    "from keras.models import Sequential\n",
    "from keras.layers import Dense, Conv2D, Flatten, MaxPooling2D\n",
    "from keras.preprocessing.image import ImageDataGenerator\n",
    "\n",
    "import os\n",
    "os.environ['KMP_DUPLICATE_LIB_OK']='True'"
   ]
  },
  {
   "cell_type": "markdown",
   "metadata": {},
   "source": [
    "## Convolutional Neural Networks\n",
    "---\n",
    "- Why do we care about CNN?\n",
    "\n",
    "Images using Pixels, there is usually some relation of one pixel to the nearby pixel.\n",
    "\n",
    "Looking at the MNIST Dataset again to visualize this concept"
   ]
  },
  {
   "cell_type": "code",
   "execution_count": 2,
   "metadata": {},
   "outputs": [],
   "source": [
    "# download mnist data and split into train and test sets\n",
    "(X_train, y_train), (X_test, y_test) = mnist.load_data()"
   ]
  },
  {
   "cell_type": "code",
   "execution_count": 3,
   "metadata": {},
   "outputs": [
    {
     "data": {
      "image/png": "[encoded data removed]",
      "text/plain": [
       "<Figure size 432x288 with 1 Axes>"
      ]
     },
     "metadata": {
      "needs_background": "light"
     },
     "output_type": "display_data"
    }
   ],
   "source": [
    "# plot the first image in the dataset\n",
    "plt.imshow(X_train[0]);"
   ]
  },
  {
   "cell_type": "code",
   "execution_count": 4,
   "metadata": {},
   "outputs": [
    {
     "data": {
      "text/plain": [
       "(28, 28)"
      ]
     },
     "execution_count": 4,
     "metadata": {},
     "output_type": "execute_result"
    }
   ],
   "source": [
    "# check image shape\n",
    "X_train[0].shape"
   ]
  },
  {
   "cell_type": "markdown",
   "metadata": {},
   "source": [
    "We see the shape is 28 by 28.  Our Sea lion or any other images might not be exactly that, but we will learn a technique below to quickly bypass this problem."
   ]
  },
  {
   "cell_type": "code",
   "execution_count": 5,
   "metadata": {},
   "outputs": [],
   "source": [
    "# reshape data to fit model\n",
    "X_train = X_train.reshape(60_000, 28, 28, 1) # 60_000=image_count, (28, 28)=(len, width), 1=channel (Grayscale/RGB)\n",
    "X_test = X_test.reshape(10_000, 28, 28, 1)"
   ]
  },
  {
   "cell_type": "markdown",
   "metadata": {},
   "source": [
    "### Categorize our target values\n",
    "\n",
    "zeros or ones.  One is active, it is a light switch turned on for classifying that value.  In this instance there can be a limited number of ones per array (only one)."
   ]
  },
  {
   "cell_type": "code",
   "execution_count": 6,
   "metadata": {},
   "outputs": [
    {
     "data": {
      "text/plain": [
       "array([0., 0., 0., 0., 0., 1., 0., 0., 0., 0.], dtype=float32)"
      ]
     },
     "execution_count": 6,
     "metadata": {},
     "output_type": "execute_result"
    }
   ],
   "source": [
    "# one-hot encode target column\n",
    "y_train = to_categorical(y_train)\n",
    "y_test = to_categorical(y_test)\n",
    "y_train[0]"
   ]
  },
  {
   "cell_type": "markdown",
   "metadata": {},
   "source": [
    "### Building a CNN\n",
    "- Just like how a model is built using dense layers"
   ]
  },
  {
   "cell_type": "code",
   "execution_count": 7,
   "metadata": {},
   "outputs": [
    {
     "name": "stderr",
     "output_type": "stream",
     "text": [
      "WARNING: Logging before flag parsing goes to stderr.\n",
      "W1001 14:57:32.659365 4505511360 deprecation_wrapper.py:119] From /Users/briancollins/anaconda3/lib/python3.7/site-packages/keras/backend/tensorflow_backend.py:74: The name tf.get_default_graph is deprecated. Please use tf.compat.v1.get_default_graph instead.\n",
      "\n",
      "W1001 14:57:32.685044 4505511360 deprecation_wrapper.py:119] From /Users/briancollins/anaconda3/lib/python3.7/site-packages/keras/backend/tensorflow_backend.py:517: The name tf.placeholder is deprecated. Please use tf.compat.v1.placeholder instead.\n",
      "\n",
      "W1001 14:57:32.687201 4505511360 deprecation_wrapper.py:119] From /Users/briancollins/anaconda3/lib/python3.7/site-packages/keras/backend/tensorflow_backend.py:4138: The name tf.random_uniform is deprecated. Please use tf.random.uniform instead.\n",
      "\n",
      "W1001 14:57:32.700185 4505511360 deprecation_wrapper.py:119] From /Users/briancollins/anaconda3/lib/python3.7/site-packages/keras/backend/tensorflow_backend.py:3976: The name tf.nn.max_pool is deprecated. Please use tf.nn.max_pool2d instead.\n",
      "\n"
     ]
    }
   ],
   "source": [
    "# instantiate the model\n",
    "model = Sequential()\n",
    "\n",
    "# add model layers\n",
    "model.add(Conv2D(64, kernel_size=3, activation='relu', input_shape=(28, 28, 1)))\n",
    "model.add(MaxPooling2D(pool_size=(2, 2)))\n",
    "model.add(Conv2D(32, kernel_size=3, activation='relu'))\n",
    "model.add(Flatten())\n",
    "model.add(Dense(10, activation='softmax'))"
   ]
  },
  {
   "cell_type": "code",
   "execution_count": 8,
   "metadata": {},
   "outputs": [
    {
     "name": "stderr",
     "output_type": "stream",
     "text": [
      "W1001 14:57:32.734990 4505511360 deprecation_wrapper.py:119] From /Users/briancollins/anaconda3/lib/python3.7/site-packages/keras/optimizers.py:790: The name tf.train.Optimizer is deprecated. Please use tf.compat.v1.train.Optimizer instead.\n",
      "\n",
      "W1001 14:57:32.756494 4505511360 deprecation_wrapper.py:119] From /Users/briancollins/anaconda3/lib/python3.7/site-packages/keras/backend/tensorflow_backend.py:3295: The name tf.log is deprecated. Please use tf.math.log instead.\n",
      "\n"
     ]
    }
   ],
   "source": [
    "# compile model using accuracy to measure model performance\n",
    "model.compile(optimizer='adam', loss='categorical_crossentropy', metrics=['accuracy'])"
   ]
  },
  {
   "cell_type": "code",
   "execution_count": 9,
   "metadata": {},
   "outputs": [
    {
     "name": "stderr",
     "output_type": "stream",
     "text": [
      "W1001 14:57:32.839607 4505511360 deprecation.py:323] From /Users/briancollins/anaconda3/lib/python3.7/site-packages/tensorflow/python/ops/math_grad.py:1250: add_dispatch_support.<locals>.wrapper (from tensorflow.python.ops.array_ops) is deprecated and will be removed in a future version.\n",
      "Instructions for updating:\n",
      "Use tf.where in 2.0, which has the same broadcast rule as np.where\n",
      "W1001 14:57:32.884177 4505511360 deprecation_wrapper.py:119] From /Users/briancollins/anaconda3/lib/python3.7/site-packages/keras/backend/tensorflow_backend.py:986: The name tf.assign_add is deprecated. Please use tf.compat.v1.assign_add instead.\n",
      "\n"
     ]
    },
    {
     "name": "stdout",
     "output_type": "stream",
     "text": [
      "Train on 60000 samples, validate on 10000 samples\n",
      "Epoch 1/3\n",
      "60000/60000 [==============================] - 28s 473us/step - loss: 0.4897 - acc: 0.9360 - val_loss: 0.0809 - val_acc: 0.9757\n",
      "Epoch 2/3\n",
      "60000/60000 [==============================] - 28s 462us/step - loss: 0.0633 - acc: 0.9813 - val_loss: 0.0645 - val_acc: 0.9794\n",
      "Epoch 3/3\n",
      "60000/60000 [==============================] - 27s 446us/step - loss: 0.0494 - acc: 0.9852 - val_loss: 0.0658 - val_acc: 0.9805\n"
     ]
    },
    {
     "data": {
      "text/plain": [
       "<keras.callbacks.History at 0x10b95d390>"
      ]
     },
     "execution_count": 9,
     "metadata": {},
     "output_type": "execute_result"
    }
   ],
   "source": [
    "# train the model\n",
    "model.fit(X_train, y_train, validation_data=(X_test, y_test), epochs=3)"
   ]
  },
  {
   "cell_type": "code",
   "execution_count": 10,
   "metadata": {},
   "outputs": [
    {
     "name": "stdout",
     "output_type": "stream",
     "text": [
      "value ['0' '1' '2' '3' '4' '5' '6' '7' '8' '9']\n"
     ]
    },
    {
     "data": {
      "text/plain": [
       "array([[0., 0., 0., 0., 0., 0., 0., 1., 0., 0.],\n",
       "       [0., 0., 1., 0., 0., 0., 0., 0., 0., 0.],\n",
       "       [0., 1., 0., 0., 0., 0., 0., 0., 0., 0.],\n",
       "       [1., 0., 0., 0., 0., 0., 0., 0., 0., 0.]], dtype=float32)"
      ]
     },
     "execution_count": 10,
     "metadata": {},
     "output_type": "execute_result"
    }
   ],
   "source": [
    "# predict first 4 images in the test set\n",
    "preds = model.predict(X_test[:4])\n",
    "print(\"value\", np.array([\"0\", 1, 2, 3, 4, 5, 6, 7, 8, 9]))\n",
    "np.round(preds)"
   ]
  },
  {
   "cell_type": "code",
   "execution_count": 11,
   "metadata": {},
   "outputs": [
    {
     "data": {
      "image/png": "[encoded data removed]",
      "text/plain": [
       "<Figure size 432x288 with 1 Axes>"
      ]
     },
     "metadata": {
      "needs_background": "light"
     },
     "output_type": "display_data"
    }
   ],
   "source": [
    "plt.imshow(X_test[2].reshape(28, 28));"
   ]
  },
  {
   "cell_type": "markdown",
   "metadata": {},
   "source": [
    "## How Does CNN Work?"
   ]
  },
  {
   "cell_type": "markdown",
   "metadata": {},
   "source": [
    "### Convolutional Layer"
   ]
  },
  {
   "attachments": {
    "CNN_representation.png": {
     "image/png": "[encoded data removed]"
    }
   },
   "cell_type": "markdown",
   "metadata": {},
   "source": [
    "![CNN_representation.png](attachment:CNN_representation.png)"
   ]
  },
  {
   "cell_type": "markdown",
   "metadata": {},
   "source": [
    "### Paremeters\n",
    "- Size: How large the filter is going to be.  Notice the size of 3, this means it's a 3x3 grid\n",
    "- Stride: How large of a jump it is taking.  A stride of 1 will slide the filter one square over whereas a stride of 2 will slide it two squares over.\n",
    "- Padding: Creates a perimeter of zeros around the original image.\n",
    "\n",
    "#### QUESTION:\n",
    "WHAT IS THE BENEFIT OF ADDING PADDING TO THE IMAGE?"
   ]
  },
  {
   "cell_type": "markdown",
   "metadata": {},
   "source": [
    "### Pooling Layer\n",
    "\n",
    "Keeps the important information while reducing the size of larger images"
   ]
  },
  {
   "attachments": {
    "MaxPool.png": {
     "image/png": "[encoded data removed]"
    }
   },
   "cell_type": "markdown",
   "metadata": {},
   "source": [
    "![MaxPool.png](attachment:MaxPool.png)"
   ]
  },
  {
   "cell_type": "markdown",
   "metadata": {},
   "source": [
    "### Activation Layers\n",
    "\n",
    "Activation layers apply to CNN just as much as they did to Dense layers.  If ReLU were applied to a CNN that had an outcome of -10.  ReLU would change the value to 0.  This ensures that images stay at pixel ranges that are possible."
   ]
  },
  {
   "cell_type": "markdown",
   "metadata": {},
   "source": [
    "### Additional CNN Reading\n",
    "\n",
    "[Understanding of Convolutional Neural Network (CNN) — Deep Learning](https://medium.com/@RaghavPrabhu/understanding-of-convolutional-neural-network-cnn-deep-learning-99760835f148)\n",
    "\n",
    "[Building a Convolutional Neural Network (CNN) in Keras](https://towardsdatascience.com/building-a-convolutional-neural-network-cnn-in-keras-329fbbadc5f5)"
   ]
  },
  {
   "cell_type": "markdown",
   "metadata": {},
   "source": [
    "## Augmenting Data\n",
    "---\n",
    "\n",
    "Augmenting data is changing data to make it different.  This is an excellent way to increase training data without needing to collect more.\n",
    "\n",
    "Keras offers a super convenient way to augment images.\n",
    "\n",
    "In addition to adding additional training data it also helps reshape the data to the exact size needed (at least the flow_from_* gives that option)."
   ]
  },
  {
   "cell_type": "code",
   "execution_count": 12,
   "metadata": {},
   "outputs": [],
   "source": [
    "datagen = ImageDataGenerator(rescale=1./255., validation_split=0.25) # scaling is critical augmentation"
   ]
  },
  {
   "cell_type": "code",
   "execution_count": 13,
   "metadata": {},
   "outputs": [],
   "source": [
    "train_gen = datagen.flow(x=X_train, y=y_train, subset='training')\n",
    "valid_gen = datagen.flow(x=X_train, y=y_train, subset='validation')"
   ]
  },
  {
   "cell_type": "code",
   "execution_count": 14,
   "metadata": {},
   "outputs": [
    {
     "name": "stdout",
     "output_type": "stream",
     "text": [
      "Epoch 1/3\n",
      "1406/1406 [==============================] - 22s 16ms/step - loss: 0.1709 - acc: 0.9495 - val_loss: 0.0813 - val_acc: 0.9756\n",
      "Epoch 2/3\n",
      "1406/1406 [==============================] - 22s 15ms/step - loss: 0.0548 - acc: 0.9836 - val_loss: 0.0536 - val_acc: 0.9839\n",
      "Epoch 3/3\n",
      "1406/1406 [==============================] - 21s 15ms/step - loss: 0.0382 - acc: 0.9881 - val_loss: 0.0460 - val_acc: 0.9867\n"
     ]
    },
    {
     "data": {
      "text/plain": [
       "<keras.callbacks.History at 0xb4f7a81d0>"
      ]
     },
     "execution_count": 14,
     "metadata": {},
     "output_type": "execute_result"
    }
   ],
   "source": [
    "# instantiate the model\n",
    "model = Sequential()\n",
    "\n",
    "# add model layers\n",
    "model.add(Conv2D(64, kernel_size=3, activation='relu', input_shape=(28, 28, 1)))\n",
    "model.add(MaxPooling2D(pool_size=(2, 2)))\n",
    "model.add(Conv2D(32, kernel_size=3, activation='relu'))\n",
    "model.add(MaxPooling2D(pool_size=(2, 2)))\n",
    "model.add(Flatten())\n",
    "model.add(Dense(10, activation='softmax'))\n",
    "\n",
    "# compile model using accuracy to measure model performance\n",
    "model.compile(optimizer='adam', loss='categorical_crossentropy', metrics=['accuracy'])\n",
    "\n",
    "# train the model\n",
    "train_step_size = train_gen.n // train_gen.batch_size\n",
    "valid_step_size = valid_gen.n // valid_gen.batch_size\n",
    "\n",
    "model.fit_generator(generator=train_gen, \n",
    "                    steps_per_epoch=train_step_size,\n",
    "                    validation_data=valid_gen,\n",
    "                    validation_steps=valid_step_size,\n",
    "                    epochs=3)"
   ]
  },
  {
   "cell_type": "markdown",
   "metadata": {},
   "source": [
    "### How to Transform your Data\n",
    "\n",
    "Read up on how you can use ImageDataGenerator to manipulate your data even more!\n",
    "\n",
    "[Keras Image Data Generator](https://keras.io/preprocessing/image/)"
   ]
  },
  {
   "cell_type": "markdown",
   "metadata": {},
   "source": [
    "## Apply What we Learned to Our Sea Lion Count"
   ]
  },
  {
   "cell_type": "code",
   "execution_count": 15,
   "metadata": {},
   "outputs": [
    {
     "name": "stdout",
     "output_type": "stream",
     "text": [
      "Found 8 validated image filenames.\n",
      "Found 2 validated image filenames.\n"
     ]
    },
    {
     "name": "stderr",
     "output_type": "stream",
     "text": [
      "/Users/briancollins/anaconda3/lib/python3.7/site-packages/keras_preprocessing/image/dataframe_iterator.py:273: UserWarning: Found 938 invalid image filename(s) in x_col=\"train_id\". These filename(s) will be ignored.\n",
      "  .format(n_invalid, x_col)\n"
     ]
    }
   ],
   "source": [
    "def append_ext(fn):\n",
    "    return fn + \".jpg\"\n",
    "\n",
    "x_col = 'train_id'\n",
    "y_col = [\"adult_males\", \"subadult_males\", \"adult_females\", \"juveniles\", \"pups\"]\n",
    "\n",
    "train_df = pd.read_csv('./TrainSmall2/Train/train.csv', dtype=str)\n",
    "\n",
    "train_df[x_col] = train_df[x_col].apply(append_ext)\n",
    "\n",
    "datagen = ImageDataGenerator(rescale=1./255., validation_split=0.25)\n",
    "\n",
    "\n",
    "train_generator = datagen.flow_from_dataframe(\n",
    "    dataframe=train_df,\n",
    "    directory=\"./TrainSmall2/Train/\",\n",
    "    x_col=x_col,\n",
    "    y_col=y_col,\n",
    "    subset=\"training\",\n",
    "    batch_size=2,\n",
    "    seed=42,\n",
    "    shuffle=True,\n",
    "    class_mode=\"raw\",\n",
    "    target_size=(64,64))\n",
    "\n",
    "valid_generator = datagen.flow_from_dataframe(\n",
    "    dataframe=train_df,\n",
    "    directory=\"./TrainSmall2/Train/\",\n",
    "    x_col=x_col,\n",
    "    y_col=y_col,\n",
    "    subset=\"validation\",\n",
    "    batch_size=1,\n",
    "    seed=42,\n",
    "    shuffle=True,\n",
    "    class_mode=\"raw\",\n",
    "    target_size=(64,64))"
   ]
  },
  {
   "cell_type": "code",
   "execution_count": 16,
   "metadata": {},
   "outputs": [
    {
     "name": "stderr",
     "output_type": "stream",
     "text": [
      "W1001 15:00:01.251161 4505511360 deprecation.py:506] From /Users/briancollins/anaconda3/lib/python3.7/site-packages/keras/backend/tensorflow_backend.py:3445: calling dropout (from tensorflow.python.ops.nn_ops) with keep_prob is deprecated and will be removed in a future version.\n",
      "Instructions for updating:\n",
      "Please use `rate` instead of `keep_prob`. Rate should be set to `rate = 1 - keep_prob`.\n"
     ]
    },
    {
     "name": "stdout",
     "output_type": "stream",
     "text": [
      "_________________________________________________________________\n",
      "Layer (type)                 Output Shape              Param #   \n",
      "=================================================================\n",
      "conv2d_5 (Conv2D)            (None, 64, 64, 32)        896       \n",
      "_________________________________________________________________\n",
      "activation_1 (Activation)    (None, 64, 64, 32)        0         \n",
      "_________________________________________________________________\n",
      "conv2d_6 (Conv2D)            (None, 62, 62, 64)        18496     \n",
      "_________________________________________________________________\n",
      "activation_2 (Activation)    (None, 62, 62, 64)        0         \n",
      "_________________________________________________________________\n",
      "max_pooling2d_3 (MaxPooling2 (None, 31, 31, 64)        0         \n",
      "_________________________________________________________________\n",
      "dropout_1 (Dropout)          (None, 31, 31, 64)        0         \n",
      "_________________________________________________________________\n",
      "conv2d_7 (Conv2D)            (None, 31, 31, 64)        36928     \n",
      "_________________________________________________________________\n",
      "activation_3 (Activation)    (None, 31, 31, 64)        0         \n",
      "_________________________________________________________________\n",
      "conv2d_8 (Conv2D)            (None, 29, 29, 64)        36928     \n",
      "_________________________________________________________________\n",
      "activation_4 (Activation)    (None, 29, 29, 64)        0         \n",
      "_________________________________________________________________\n",
      "max_pooling2d_4 (MaxPooling2 (None, 14, 14, 64)        0         \n",
      "_________________________________________________________________\n",
      "dropout_2 (Dropout)          (None, 14, 14, 64)        0         \n",
      "_________________________________________________________________\n",
      "conv2d_9 (Conv2D)            (None, 14, 14, 128)       73856     \n",
      "_________________________________________________________________\n",
      "activation_5 (Activation)    (None, 14, 14, 128)       0         \n",
      "_________________________________________________________________\n",
      "conv2d_10 (Conv2D)           (None, 12, 12, 128)       147584    \n",
      "_________________________________________________________________\n",
      "activation_6 (Activation)    (None, 12, 12, 128)       0         \n",
      "_________________________________________________________________\n",
      "max_pooling2d_5 (MaxPooling2 (None, 6, 6, 128)         0         \n",
      "_________________________________________________________________\n",
      "dropout_3 (Dropout)          (None, 6, 6, 128)         0         \n",
      "_________________________________________________________________\n",
      "flatten_3 (Flatten)          (None, 4608)              0         \n",
      "_________________________________________________________________\n",
      "dense_3 (Dense)              (None, 512)               2359808   \n",
      "_________________________________________________________________\n",
      "activation_7 (Activation)    (None, 512)               0         \n",
      "_________________________________________________________________\n",
      "dropout_4 (Dropout)          (None, 512)               0         \n",
      "_________________________________________________________________\n",
      "dense_4 (Dense)              (None, 5)                 2565      \n",
      "=================================================================\n",
      "Total params: 2,677,061\n",
      "Trainable params: 2,677,061\n",
      "Non-trainable params: 0\n",
      "_________________________________________________________________\n"
     ]
    }
   ],
   "source": [
    "from keras.layers import Dense, Activation, Flatten, Dropout, BatchNormalization\n",
    "from keras import regularizers, optimizers\n",
    "\n",
    "model = Sequential()\n",
    "model.add(Conv2D(32, (3, 3), padding='same',\n",
    "                 input_shape=(64,64,3)))\n",
    "model.add(Activation('relu'))\n",
    "model.add(Conv2D(64, (3, 3)))\n",
    "model.add(Activation('relu'))\n",
    "model.add(MaxPooling2D(pool_size=(2, 2)))\n",
    "model.add(Dropout(0.25))\n",
    "model.add(Conv2D(64, (3, 3), padding='same'))\n",
    "model.add(Activation('relu'))\n",
    "model.add(Conv2D(64, (3, 3)))\n",
    "model.add(Activation('relu'))\n",
    "model.add(MaxPooling2D(pool_size=(2, 2)))\n",
    "model.add(Dropout(0.5))\n",
    "model.add(Conv2D(128, (3, 3), padding='same'))\n",
    "model.add(Activation('relu'))\n",
    "model.add(Conv2D(128, (3, 3)))\n",
    "model.add(Activation('relu'))\n",
    "model.add(MaxPooling2D(pool_size=(2, 2)))\n",
    "model.add(Dropout(0.5))\n",
    "model.add(Flatten())\n",
    "model.add(Dense(512))\n",
    "model.add(Activation('relu'))\n",
    "model.add(Dropout(0.5))\n",
    "model.add(Dense(5, activation='relu'))\n",
    "model.compile(optimizers.rmsprop(lr=0.0005, decay=1e-6), loss='mean_squared_error', metrics=[\"mae\"])\n",
    "model.summary()"
   ]
  },
  {
   "cell_type": "code",
   "execution_count": 17,
   "metadata": {},
   "outputs": [
    {
     "name": "stdout",
     "output_type": "stream",
     "text": [
      "Epoch 1/10\n",
      "4/4 [==============================] - 3s 669ms/step - loss: 4360.5028 - mean_absolute_error: 27.2664 - val_loss: 1128.1958 - val_mean_absolute_error: 19.8524\n",
      "Epoch 2/10\n",
      "4/4 [==============================] - 2s 392ms/step - loss: 4134.5845 - mean_absolute_error: 26.0568 - val_loss: 909.1654 - val_mean_absolute_error: 17.8625\n",
      "Epoch 3/10\n",
      "4/4 [==============================] - 2s 486ms/step - loss: 4066.5310 - mean_absolute_error: 26.7025 - val_loss: 811.1448 - val_mean_absolute_error: 17.8279\n",
      "Epoch 4/10\n",
      "4/4 [==============================] - 2s 485ms/step - loss: 3679.3418 - mean_absolute_error: 25.8320 - val_loss: 754.8637 - val_mean_absolute_error: 17.7916\n",
      "Epoch 5/10\n",
      "4/4 [==============================] - 2s 510ms/step - loss: 3654.7979 - mean_absolute_error: 23.4704 - val_loss: 572.2165 - val_mean_absolute_error: 18.0716\n",
      "Epoch 6/10\n",
      "4/4 [==============================] - 2s 492ms/step - loss: 3869.7881 - mean_absolute_error: 27.0268 - val_loss: 561.2219 - val_mean_absolute_error: 18.5113\n",
      "Epoch 7/10\n",
      "4/4 [==============================] - 2s 490ms/step - loss: 4251.6179 - mean_absolute_error: 35.8920 - val_loss: 637.2767 - val_mean_absolute_error: 17.5567\n",
      "Epoch 8/10\n",
      "4/4 [==============================] - 2s 533ms/step - loss: 3645.9915 - mean_absolute_error: 26.1835 - val_loss: 572.1443 - val_mean_absolute_error: 17.5182\n",
      "Epoch 9/10\n",
      "4/4 [==============================] - 2s 488ms/step - loss: 3499.0308 - mean_absolute_error: 26.9038 - val_loss: 576.8388 - val_mean_absolute_error: 17.5082\n",
      "Epoch 10/10\n",
      "4/4 [==============================] - 2s 482ms/step - loss: 3299.6684 - mean_absolute_error: 26.2477 - val_loss: 516.8338 - val_mean_absolute_error: 17.4326\n"
     ]
    },
    {
     "data": {
      "text/plain": [
       "[516.8338317871094, 17.432578563690186]"
      ]
     },
     "execution_count": 17,
     "metadata": {},
     "output_type": "execute_result"
    }
   ],
   "source": [
    "# Fitting keras model, Note the Floor Division. Why is this needed?\n",
    "STEP_SIZE_TRAIN = train_generator.n // train_generator.batch_size\n",
    "STEP_SIZE_VALID = valid_generator.n // valid_generator.batch_size\n",
    "\n",
    "model.fit_generator(generator=train_generator,\n",
    "                    steps_per_epoch=STEP_SIZE_TRAIN,\n",
    "                    validation_data=valid_generator,\n",
    "                    validation_steps=STEP_SIZE_VALID,\n",
    "                    epochs=10\n",
    ")\n",
    "model.evaluate_generator(generator=valid_generator, steps=STEP_SIZE_VALID\n",
    ")"
   ]
  },
  {
   "cell_type": "code",
   "execution_count": null,
   "metadata": {},
   "outputs": [],
   "source": []
  }
 ],
 "metadata": {
  "kernelspec": {
   "display_name": "Python 3",
   "language": "python",
   "name": "python3"
  },
  "language_info": {
   "codemirror_mode": {
    "name": "ipython",
    "version": 3
   },
   "file_extension": ".py",
   "mimetype": "text/x-python",
   "name": "python",
   "nbconvert_exporter": "python",
   "pygments_lexer": "ipython3",
   "version": "3.7.3"
  }
 },
 "nbformat": 4,
 "nbformat_minor": 2
}
